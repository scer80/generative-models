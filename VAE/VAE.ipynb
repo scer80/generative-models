{
 "cells": [
  {
   "cell_type": "code",
   "execution_count": 1,
   "metadata": {
    "collapsed": true
   },
   "outputs": [],
   "source": [
    "%matplotlib inline\n",
    "\n",
    "import tensorflow as tf\n",
    "from tensorflow.examples.tutorials.mnist import input_data\n",
    "\n",
    "import pickle\n",
    "import numpy as np\n",
    "from tqdm import tqdm\n",
    "\n",
    "import matplotlib.pyplot as plt"
   ]
  },
  {
   "cell_type": "code",
   "execution_count": 2,
   "metadata": {},
   "outputs": [
    {
     "name": "stdout",
     "output_type": "stream",
     "text": [
      "Extracting data/train-images-idx3-ubyte.gz\n",
      "Extracting data/train-labels-idx1-ubyte.gz\n",
      "Extracting data/t10k-images-idx3-ubyte.gz\n",
      "Extracting data/t10k-labels-idx1-ubyte.gz\n"
     ]
    }
   ],
   "source": [
    "# Get MNIST dataset\n",
    "mnist = input_data.read_data_sets('data', one_hot=True)"
   ]
  },
  {
   "cell_type": "code",
   "execution_count": 5,
   "metadata": {
    "collapsed": true
   },
   "outputs": [],
   "source": [
    "# Create the model\n",
    "class VAE():\n",
    "    \n",
    "    def __init__(self, io_size, z_dim, hidden_size, build=True):\n",
    "        # sizes\n",
    "        self.io_size = io_size\n",
    "        self.z_dim = z_dim\n",
    "        self.hidden_size = hidden_size\n",
    "        \n",
    "        # graph config\n",
    "        self.gc = dict()\n",
    "        \n",
    "        if build:\n",
    "            self.build()\n",
    "            # Save names\n",
    "            self.set_gc_names()            \n",
    "            \n",
    "    def placeholders(self):\n",
    "        self.enc_input = tf.placeholder(tf.float32, shape=[None, self.io_size], name='enc_input')\n",
    "        self.output = tf.placeholder(tf.float32, shape=[None, self.io_size], name='output')\n",
    "        self.dec_mu_input = tf.placeholder(tf.float32, shape=[None, self.z_dim], name='dec_input')\n",
    "        self.dec_sigma_input = tf.placeholder(tf.float32, shape=[None, self.z_dim], name='dec_input')\n",
    "        \n",
    "    def encoder(self, enc_input, reuse=False):\n",
    "        with tf.variable_scope('encoder', reuse=reuse):\n",
    "            # Encoder layers\n",
    "            layer = tf.contrib.layers.flatten(enc_input)\n",
    "            layer = tf.contrib.layers.fully_connected(layer, self.hidden_size, activation_fn=tf.nn.relu)\n",
    "            mu = tf.contrib.layers.fully_connected(layer, self.z_dim, activation_fn=None)\n",
    "            log_sigma = tf.contrib.layers.fully_connected(layer, self.z_dim, activation_fn=None)\n",
    "            \n",
    "            return mu, log_sigma\n",
    "            \n",
    "    def decoder(self, mu, log_sigma, reuse=False): \n",
    "        with tf.variable_scope('decoder', reuse=reuse):\n",
    "            batch_size = tf.shape(mu)[0]\n",
    "            z = tf.random_normal([batch_size, self.z_dim], mu, tf.exp(log_sigma))\n",
    "            # Decoder layers\n",
    "            layer = tf.contrib.layers.fully_connected(z, self.hidden_size, activation_fn=tf.nn.relu)        \n",
    "            logits = tf.contrib.layers.fully_connected(layer, self.io_size, activation_fn=None)\n",
    "            reconstituted = tf.nn.sigmoid(logits)\n",
    "            \n",
    "            return reconstituted, logits\n",
    "            \n",
    "    def build(self):\n",
    "        self.placeholders()\n",
    "        \n",
    "        self.mu, self.log_sigma = self.encoder(self.enc_input)\n",
    "        self.reconstituted, self.logits = self.decoder(self.mu, self.log_sigma)\n",
    "        self.samples, _ = self.decoder(self.dec_mu_input, self.dec_sigma_input, reuse=True)\n",
    "        \n",
    "        # Loss functions\n",
    "        self.logp = tf.reduce_sum(\n",
    "                        tf.nn.sigmoid_cross_entropy_with_logits(logits=self.logits, labels=self.output), \n",
    "                        axis=1)\n",
    "        self.kl = 0.5 * tf.reduce_sum(tf.exp(self.log_sigma) + tf.square(self.mu) - 1. - self.log_sigma, axis=1)\n",
    "        self.loss = tf.reduce_mean(self.logp + self.kl)\n",
    "        \n",
    "        # Optimizer\n",
    "        self.train_step = tf.train.AdamOptimizer(1e-4).minimize(self.loss)\n",
    "        \n",
    "    def set_gc_names(self):\n",
    "        for k, v in self.__dict__.items():\n",
    "            if isinstance(v, tf.Tensor) or isinstance(v, tf.Operation):\n",
    "                self.gc[k] = self.__dict__[k].name    \n",
    "        \n",
    "    def print_gc_names(self):\n",
    "        for k, n in self.gc.items():\n",
    "            print(k, n)            \n",
    "           \n",
    "    def init_from_graph(self, graph, gc):\n",
    "        self.gc = gc\n",
    "        for k, n in self.gc.items():\n",
    "            try:\n",
    "                self.__dict__[k] =  graph.get_tensor_by_name(n)\n",
    "            except:\n",
    "                try:\n",
    "                    self.__dict__[k] =  graph.get_operation_by_name(n)\n",
    "                except:\n",
    "                    raise\n",
    " "
   ]
  },
  {
   "cell_type": "code",
   "execution_count": 10,
   "metadata": {},
   "outputs": [
    {
     "name": "stdout",
     "output_type": "stream",
     "text": [
      "INFO:tensorflow:Restoring parameters from chck/vae\n"
     ]
    },
    {
     "name": "stderr",
     "output_type": "stream",
     "text": [
      "Epoch 30: 100%|█████████▉| 1649280/1650000 [02:13<00:00, 12376.58 examples/s, Loss=149.2547]\n"
     ]
    }
   ],
   "source": [
    "# Train the model and save it\n",
    "io_size, z_dim, hidden_size = 784, 4, 512\n",
    "batch_size = 32\n",
    "nepochs = 30\n",
    "restore_vae = True # False, True\n",
    "\n",
    "tf.reset_default_graph()\n",
    "if restore_vae:    \n",
    "    vae = VAE(io_size, z_dim, hidden_size, build=False)    \n",
    "else:\n",
    "    vae = VAE(io_size, z_dim, hidden_size)\n",
    "    with open('chck/gc.pickle', 'wb') as f:\n",
    "        pickle.dump(vae.gc, f)\n",
    "   \n",
    "with tf.Session() as sess:\n",
    "    if restore_vae:\n",
    "        saver = tf.train.import_meta_graph('chck/vae.meta')\n",
    "        saver.restore(sess, \"chck/vae\")\n",
    "        with open('chck/gc.pickle', 'rb') as f:\n",
    "            gc = pickle.load(f) \n",
    "        vae.init_from_graph(sess.graph, gc)\n",
    "    else:\n",
    "        sess.run(tf.global_variables_initializer())\n",
    "        saver = tf.train.Saver()\n",
    "\n",
    "    with tqdm(desc='Epoch', total=mnist.train.num_examples*nepochs, unit=' examples') as pbar:\n",
    "        for epoch in range(nepochs):        \n",
    "            for batch_idx in range(int(mnist.train.num_examples//batch_size)):\n",
    "                batch = mnist.train.next_batch(batch_size)\n",
    "                _, train_loss = sess.run([vae.train_step, vae.loss], \n",
    "                                        feed_dict={vae.enc_input: batch[0], vae.output: batch[0]})\n",
    "                pbar.set_description('Epoch {:2}'.format(epoch+1))\n",
    "                pbar.update(batch_size)\n",
    "                pbar.set_postfix(Loss='{:.4f}'.format(train_loss))\n",
    "\n",
    "    save_path = saver.save(sess, \"chck/vae\")\n"
   ]
  },
  {
   "cell_type": "code",
   "execution_count": 11,
   "metadata": {},
   "outputs": [
    {
     "name": "stdout",
     "output_type": "stream",
     "text": [
      "INFO:tensorflow:Restoring parameters from chck/vae\n"
     ]
    },
    {
     "data": {
      "image/png": "[encoded data removed]",
      "text/plain": [
       "<matplotlib.figure.Figure at 0x7f77bfa48240>"
      ]
     },
     "metadata": {},
     "output_type": "display_data"
    }
   ],
   "source": [
    "-\n",
    "\n"
   ]
  },
  {
   "cell_type": "code",
   "execution_count": 12,
   "metadata": {},
   "outputs": [
    {
     "name": "stdout",
     "output_type": "stream",
     "text": [
      "INFO:tensorflow:Restoring parameters from chck/vae\n"
     ]
    },
    {
     "data": {
      "image/png": "[encoded data removed]",
      "text/plain": [
       "<matplotlib.figure.Figure at 0x7f77bfa6c630>"
      ]
     },
     "metadata": {},
     "output_type": "display_data"
    }
   ],
   "source": [
    "# Generate some samples\n",
    "io_size, z_dim, hidden_size = 784, 4, 512\n",
    "hsamples, vsamples = 10, 2\n",
    "\n",
    "tf.reset_default_graph()\n",
    "vae = VAE(io_size, z_dim, hidden_size, build=False)\n",
    "\n",
    "with tf.Session() as sess:\n",
    "    saver = tf.train.import_meta_graph('chck/vae.meta')\n",
    "    saver.restore(sess, \"chck/vae\")\n",
    "    with open('chck/gc.pickle', 'rb') as f:\n",
    "        gc = pickle.load(f) \n",
    "    vae.init_from_graph(sess.graph, gc) \n",
    "\n",
    "    mu = np.random.normal(0.0, 1.0, (hsamples*vsamples, vae.z_dim))\n",
    "    log_sigma = np.random.normal(0.0, 1.0, (hsamples*vsamples, vae.z_dim))\n",
    "    \n",
    "    samples = sess.run(vae.samples, feed_dict={vae.dec_mu_input: mu, vae.dec_sigma_input: log_sigma})\n",
    " \n",
    "fig, axes = plt.subplots(vsamples, hsamples, sharex=True, sharey=True, figsize=(1.5*hsamples,1.5*vsamples))\n",
    "for ih in range(hsamples):\n",
    "    for iv in range(vsamples):\n",
    "        img = np.reshape(samples[ih+iv*hsamples,:], (28, 28))\n",
    "        axes[iv][ih].imshow(img, aspect='equal', cmap='gray')\n",
    "        axes[iv][ih].xaxis.set_visible(False)\n",
    "        axes[iv][ih].yaxis.set_visible(False)\n",
    "        \n",
    "plt.subplots_adjust(wspace=0, hspace=0)        "
   ]
  },
  {
   "cell_type": "code",
   "execution_count": null,
   "metadata": {
    "collapsed": true
   },
   "outputs": [],
   "source": []
  }
 ],
 "metadata": {
  "kernelspec": {
   "display_name": "Python 3",
   "language": "python",
   "name": "python3"
  },
  "language_info": {
   "codemirror_mode": {
    "name": "ipython",
    "version": 3
   },
   "file_extension": ".py",
   "mimetype": "text/x-python",
   "name": "python",
   "nbconvert_exporter": "python",
   "pygments_lexer": "ipython3",
   "version": "3.5.2"
  }
 },
 "nbformat": 4,
 "nbformat_minor": 2
}
