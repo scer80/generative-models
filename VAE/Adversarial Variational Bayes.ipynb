{
 "cells": [
  {
   "cell_type": "markdown",
   "metadata": {},
   "source": [
    "# Adversarial Variational Bayes"
   ]
  },
  {
   "cell_type": "code",
   "execution_count": 1,
   "metadata": {
    "collapsed": true
   },
   "outputs": [],
   "source": [
    "%matplotlib inline\n",
    "\n",
    "import tensorflow as tf\n",
    "from tensorflow.examples.tutorials.mnist import input_data\n",
    "\n",
    "import pickle\n",
    "import numpy as np\n",
    "from tqdm import tqdm\n",
    "\n",
    "import matplotlib.pyplot as plt"
   ]
  },
  {
   "cell_type": "code",
   "execution_count": 2,
   "metadata": {},
   "outputs": [
    {
     "name": "stdout",
     "output_type": "stream",
     "text": [
      "Extracting data/train-images-idx3-ubyte.gz\n",
      "Extracting data/train-labels-idx1-ubyte.gz\n",
      "Extracting data/t10k-images-idx3-ubyte.gz\n",
      "Extracting data/t10k-labels-idx1-ubyte.gz\n"
     ]
    }
   ],
   "source": [
    "# Get MNIST dataset\n",
    "mnist = input_data.read_data_sets('data', one_hot=True)"
   ]
  },
  {
   "cell_type": "code",
   "execution_count": 3,
   "metadata": {
    "collapsed": true
   },
   "outputs": [],
   "source": [
    "# Create the model\n",
    "class AVB():    \n",
    "    def __init__(self, io_size, z_dim, eps_dim, hidden_size, build=True):\n",
    "        # sizes\n",
    "        self.io_size = io_size\n",
    "        self.z_dim = z_dim\n",
    "        self.eps_dim = eps_dim\n",
    "        self.hidden_size = hidden_size\n",
    "        self.smooth = 0.9\n",
    "        \n",
    "        # graph config\n",
    "        self.gc = dict()\n",
    "        \n",
    "        if build:\n",
    "            self.build()\n",
    "            # Save names\n",
    "            self.set_gc_names()            \n",
    "            \n",
    "    def placeholders(self):\n",
    "        self.input = tf.placeholder(tf.float32, shape=[None, self.io_size], name='input')\n",
    "        self.eps = tf.placeholder(tf.float32, shape=[None, self.eps_dim], name='eps_input')\n",
    "        self.z_input = tf.placeholder(tf.float32, shape=[None, self.z_dim], name='z_input')\n",
    "        \n",
    "    def encoder(self, X, eps, reuse=False):\n",
    "        with tf.variable_scope('encoder', reuse=reuse):\n",
    "            # Encoder layers\n",
    "            X_ = tf.contrib.layers.flatten(X)\n",
    "            layer = tf.concat([X_, eps], axis=1)\n",
    "            layer = tf.contrib.layers.fully_connected(layer, self.hidden_size, activation_fn=tf.nn.relu)\n",
    "            z = tf.contrib.layers.fully_connected(layer, self.z_dim, activation_fn=None)\n",
    "            \n",
    "            return z\n",
    "            \n",
    "    def decoder(self, z, reuse=False): \n",
    "        with tf.variable_scope('decoder', reuse=reuse):\n",
    "            # Decoder layers\n",
    "            layer = tf.contrib.layers.fully_connected(z, self.hidden_size, activation_fn=tf.nn.relu)        \n",
    "            logits = tf.contrib.layers.fully_connected(layer, self.io_size, activation_fn=None)\n",
    "            out = tf.nn.sigmoid(logits)\n",
    "            \n",
    "            return out, logits\n",
    "        \n",
    "    def discriminator(self, X, z, reuse=False):\n",
    "        with tf.variable_scope('discriminator', reuse=reuse):\n",
    "            X_ = tf.contrib.layers.flatten(X)\n",
    "            layer = tf.concat([X_, z], axis=1)\n",
    "            #d_hidden_dim = int(tf.shape(layer)[1]//2)\n",
    "            d_hidden_dim = int(layer.get_shape().as_list()[1]//2) #int(tf.shape(layer)[1]//2)\n",
    "            layer = tf.contrib.layers.fully_connected(layer, d_hidden_dim, activation_fn=tf.nn.relu)\n",
    "            logit = tf.contrib.layers.fully_connected(layer, 1, activation_fn=None)\n",
    "            \n",
    "            return logit\n",
    "            \n",
    "    def build(self):\n",
    "        self.placeholders()\n",
    "        \n",
    "        z = self.encoder(self.input, self.eps)\n",
    "        self.reconstituted, logits = self.decoder(z)\n",
    "        self.samples, _ = self.decoder(self.z_input, reuse=True)\n",
    "        dfake_logit = self.discriminator(self.input, z)\n",
    "        dreal_logit = self.discriminator(self.input, self.z_input, reuse=True)\n",
    "        \n",
    "        # Trainable variables\n",
    "        enc_vars = tf.get_collection(tf.GraphKeys.TRAINABLE_VARIABLES, scope='encoder')\n",
    "        dec_vars = tf.get_collection(tf.GraphKeys.TRAINABLE_VARIABLES, scope='decoder')\n",
    "        disc_vars = tf.get_collection(tf.GraphKeys.TRAINABLE_VARIABLES, scope='discriminator')\n",
    "        \n",
    "        ## Loss functions\n",
    "        # Reconstruction loss\n",
    "        recon = tf.reduce_sum(\n",
    "                        tf.nn.sigmoid_cross_entropy_with_logits(logits=logits, labels=self.input), \n",
    "                        axis=1)\n",
    "        # Encoder loss\n",
    "        self.codec_loss = tf.reduce_mean(dfake_logit + recon)\n",
    "        # Discriminator loss\n",
    "        disc_loss_real = tf.nn.sigmoid_cross_entropy_with_logits(logits=dfake_logit, \n",
    "                                                                labels=tf.ones_like(dfake_logit) * self.smooth)\n",
    "        disc_loss_fake = tf.nn.sigmoid_cross_entropy_with_logits(logits=dreal_logit, \n",
    "                                                                labels=tf.zeros_like(dreal_logit))\n",
    "        self.disc_loss = tf.reduce_mean(disc_loss_real + disc_loss_fake)\n",
    "      \n",
    "        # Optimizer\n",
    "        self.train_discriminator = tf.train.AdamOptimizer(1e-4).minimize(self.disc_loss, var_list=disc_vars)\n",
    "        self.train_codec = tf.train.AdamOptimizer(1e-4).minimize(self.codec_loss, var_list=dec_vars+enc_vars)\n",
    "\n",
    "    def set_gc_names(self):\n",
    "        for k, v in self.__dict__.items():\n",
    "            if isinstance(v, tf.Tensor) or isinstance(v, tf.Operation):\n",
    "                self.gc[k] = self.__dict__[k].name\n",
    "            if isinstance(v, list):\n",
    "                if all(map(lambda x: isinstance(x, tf.Tensor) or isinstance(x, tf.Operation), v)):\n",
    "                    self.gc[k] = [_.name for _ in v]\n",
    "                    \n",
    "    def print_gc_names(self):\n",
    "        for k, n in self.gc.items():\n",
    "            print(k, n)\n",
    "            \n",
    "    def get_from_graph(self, name, graph):\n",
    "        try:\n",
    "            return graph.get_tensor_by_name(name)\n",
    "        except:\n",
    "            try:\n",
    "                return graph.get_operation_by_name(name)\n",
    "            except:\n",
    "                raise \n",
    "           \n",
    "    def init_from_graph(self, graph, gc):\n",
    "        self.gc = gc\n",
    "        for k, n in self.gc.items():\n",
    "            if isinstance(n, list):\n",
    "                self.__dict__[k] = [self.get_from_graph(_, graph) for _ in n]\n",
    "            else:\n",
    "                self.__dict__[k] = self.get_from_graph(n, graph)"
   ]
  },
  {
   "cell_type": "code",
   "execution_count": 11,
   "metadata": {},
   "outputs": [
    {
     "name": "stdout",
     "output_type": "stream",
     "text": [
      "INFO:tensorflow:Restoring parameters from chck/avb\n"
     ]
    },
    {
     "name": "stderr",
     "output_type": "stream",
     "text": [
      "Epoch 40: 100%|█████████▉| 2199040/2200000 [05:26<00:00, 6928.30 examples/s, CL=107.879, DL=0.368]\n"
     ]
    }
   ],
   "source": [
    "# Train the model and save it\n",
    "io_size, z_dim, eps_dim, hidden_size = 784, 4, 8, 512\n",
    "batch_size = 32\n",
    "nepochs = 40\n",
    "restore_model = True # False, True\n",
    "\n",
    "tf.reset_default_graph()\n",
    "if restore_model:    \n",
    "    model = AVB(io_size, z_dim, eps_dim, hidden_size, build=False)    \n",
    "else:\n",
    "    model = AVB(io_size, z_dim, eps_dim, hidden_size)\n",
    "    with open('chck/avb_gc.pickle', 'wb') as f:\n",
    "        pickle.dump(model.gc, f)\n",
    "        \n",
    "with tf.Session() as sess:\n",
    "    if restore_model:\n",
    "        saver = tf.train.import_meta_graph('chck/avb.meta')\n",
    "        saver.restore(sess, \"chck/avb\")\n",
    "        with open('chck/avb_gc.pickle', 'rb') as f:\n",
    "            gc = pickle.load(f) \n",
    "        model.init_from_graph(sess.graph, gc)\n",
    "    else:\n",
    "        sess.run(tf.global_variables_initializer())\n",
    "        saver = tf.train.Saver()\n",
    "\n",
    "    num_examples = mnist.train.num_examples\n",
    "    with tqdm(desc='Epoch', total=num_examples*nepochs, unit=' examples') as pbar:\n",
    "        labelled_loss, unlabelled_loss, valid_acc = 0, 0, 0.0\n",
    "        for epoch in range(nepochs):\n",
    "            # Labelled\n",
    "            for batch_idx in range(int(mnist.train.num_examples//batch_size)):\n",
    "                batch = mnist.train.next_batch(batch_size)\n",
    "                \n",
    "                z_batch = np.random.normal(0.0, 1.0, size=(batch_size, model.z_dim))\n",
    "                eps_batch = np.random.normal(0.0, 1.0, size=(batch_size, model.eps_dim))\n",
    "                \n",
    "                _, disc_loss = sess.run([model.train_discriminator, model.disc_loss], \n",
    "                                feed_dict={model.input: batch[0], model.z_input: z_batch, model.eps: eps_batch})\n",
    "                _, codec_loss = sess.run([model.train_codec, model.codec_loss], \n",
    "                                feed_dict={model.input: batch[0], model.z_input: z_batch, model.eps: eps_batch})  \n",
    "                pbar.set_description('Epoch {:2}'.format(epoch+1))\n",
    "                pbar.update(batch_size)\n",
    "                pbar.set_postfix(DL='{:.3f}'.format(disc_loss), \\\n",
    "                                 CL='{:.3f}'.format(codec_loss))          \n",
    "                \n",
    "    save_path = saver.save(sess, \"chck/avb\")"
   ]
  },
  {
   "cell_type": "code",
   "execution_count": 12,
   "metadata": {},
   "outputs": [
    {
     "name": "stdout",
     "output_type": "stream",
     "text": [
      "INFO:tensorflow:Restoring parameters from chck/avb\n"
     ]
    },
    {
     "data": {
      "image/png": "[encoded data removed]",
      "text/plain": [
       "<matplotlib.figure.Figure at 0x7fab5f214710>"
      ]
     },
     "metadata": {},
     "output_type": "display_data"
    }
   ],
   "source": [
    "# Display input/output pairs\n",
    "io_size, z_dim, eps_dim, hidden_size = 784, 4, 8, 512\n",
    "\n",
    "images = {l: {'original': np.zeros((28,28)), 'reconstituted': np.zeros((28,28))} for l in range(10)}\n",
    "\n",
    "found = [False for _ in range(10)]\n",
    "for im, label in zip(mnist.test.images, mnist.test.labels):\n",
    "    l = np.int(np.squeeze(np.where(label==1)))\n",
    "    images[l]['original'] = np.reshape(im, (28, 28))\n",
    "    found[l] = True\n",
    "    if all(found):\n",
    "        break\n",
    "\n",
    "tf.reset_default_graph()\n",
    "model = AVB(io_size, z_dim, eps_dim, hidden_size, build=False)\n",
    "\n",
    "with tf.Session() as sess:\n",
    "    saver = tf.train.import_meta_graph('chck/avb.meta')\n",
    "    saver.restore(sess, \"chck/avb\")\n",
    "    with open('chck/avb_gc.pickle', 'rb') as f:\n",
    "        gc = pickle.load(f) \n",
    "    model.init_from_graph(sess.graph, gc)    \n",
    "\n",
    "    for l in range(10):\n",
    "        img = np.reshape(images[l]['original'], 784)\n",
    "        eps_batch = np.random.normal(0.0, 1.0, size=(1, model.eps_dim))        \n",
    "        \n",
    "        reconstituted = sess.run(model.reconstituted, \n",
    "                                 feed_dict={model.input: img[np.newaxis,:], model.eps: eps_batch})\n",
    "        images[l]['reconstituted'] = np.reshape(reconstituted, (28, 28))\n",
    "\n",
    "fig, axes = plt.subplots(2, 10, sharex=True, sharey=True, figsize=(1.5*10,2*1.5))\n",
    "for ii in range(10):\n",
    "    axes[0][ii].imshow(images[ii]['original'], aspect='equal', cmap='gray')\n",
    "    axes[0][ii].xaxis.set_visible(False)\n",
    "    axes[0][ii].yaxis.set_visible(False)\n",
    "    axes[1][ii].imshow(images[ii]['reconstituted'], aspect='equal', cmap='gray')\n",
    "    axes[1][ii].xaxis.set_visible(False)\n",
    "    axes[1][ii].yaxis.set_visible(False)\n",
    "    \n",
    "plt.subplots_adjust(wspace=0, hspace=0)"
   ]
  },
  {
   "cell_type": "code",
   "execution_count": 21,
   "metadata": {},
   "outputs": [
    {
     "name": "stdout",
     "output_type": "stream",
     "text": [
      "INFO:tensorflow:Restoring parameters from chck/avb\n"
     ]
    },
    {
     "data": {
      "image/png": "[encoded data removed]",
      "text/plain": [
       "<matplotlib.figure.Figure at 0x7fab61e78240>"
      ]
     },
     "metadata": {},
     "output_type": "display_data"
    }
   ],
   "source": [
    "# Generate some samples\n",
    "io_size, z_dim, eps_dim, hidden_size = 784, 4, 8, 512\n",
    "hsamples, vsamples = 10, 2\n",
    "\n",
    "tf.reset_default_graph()\n",
    "model = AVB(io_size, z_dim, eps_dim, hidden_size, build=False)\n",
    "\n",
    "with tf.Session() as sess:\n",
    "    saver = tf.train.import_meta_graph('chck/avb.meta')\n",
    "    saver.restore(sess, \"chck/avb\")\n",
    "    with open('chck/avb_gc.pickle', 'rb') as f:\n",
    "        gc = pickle.load(f) \n",
    "    model.init_from_graph(sess.graph, gc)   \n",
    "\n",
    "    #z_batch = np.random.normal(0.0, 1.0, size=(batch_size, model.z_dim))\n",
    "    z_batch = np.random.uniform(-3.0, 3.0, size=(batch_size, model.z_dim))\n",
    "    \n",
    "    samples = sess.run(model.samples, \n",
    "                       feed_dict={model.z_input: z_batch})\n",
    " \n",
    "fig, axes = plt.subplots(vsamples, hsamples, sharex=True, sharey=True, figsize=(1.5*hsamples,1.5*vsamples))\n",
    "for ih in range(hsamples):\n",
    "    for iv in range(vsamples):\n",
    "        img = np.reshape(samples[ih+iv*hsamples,:], (28, 28))\n",
    "        axes[iv][ih].imshow(img, aspect='equal', cmap='gray')\n",
    "        axes[iv][ih].xaxis.set_visible(False)\n",
    "        axes[iv][ih].yaxis.set_visible(False)\n",
    "        \n",
    "plt.subplots_adjust(wspace=0, hspace=0)        "
   ]
  },
  {
   "cell_type": "code",
   "execution_count": null,
   "metadata": {
    "collapsed": true
   },
   "outputs": [],
   "source": []
  }
 ],
 "metadata": {
  "kernelspec": {
   "display_name": "Python 3",
   "language": "python",
   "name": "python3"
  },
  "language_info": {
   "codemirror_mode": {
    "name": "ipython",
    "version": 3
   },
   "file_extension": ".py",
   "mimetype": "text/x-python",
   "name": "python",
   "nbconvert_exporter": "python",
   "pygments_lexer": "ipython3",
   "version": "3.5.2"
  }
 },
 "nbformat": 4,
 "nbformat_minor": 2
}
