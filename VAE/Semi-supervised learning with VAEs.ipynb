{
 "cells": [
  {
   "cell_type": "markdown",
   "metadata": {
    "collapsed": true
   },
   "source": [
    "# Semi-supervised learning with VAEs"
   ]
  },
  {
   "cell_type": "code",
   "execution_count": 1,
   "metadata": {
    "collapsed": true
   },
   "outputs": [],
   "source": [
    "%matplotlib inline\n",
    "\n",
    "import tensorflow as tf\n",
    "from tensorflow.examples.tutorials.mnist import input_data\n",
    "\n",
    "import pickle\n",
    "import numpy as np\n",
    "from tqdm import tqdm\n",
    "\n",
    "import matplotlib.pyplot as plt"
   ]
  },
  {
   "cell_type": "code",
   "execution_count": 2,
   "metadata": {},
   "outputs": [
    {
     "name": "stdout",
     "output_type": "stream",
     "text": [
      "Extracting data/train-images-idx3-ubyte.gz\n",
      "Extracting data/train-labels-idx1-ubyte.gz\n",
      "Extracting data/t10k-images-idx3-ubyte.gz\n",
      "Extracting data/t10k-labels-idx1-ubyte.gz\n"
     ]
    }
   ],
   "source": [
    "# Get MNIST dataset\n",
    "mnist = input_data.read_data_sets('data', one_hot=True)"
   ]
  },
  {
   "cell_type": "code",
   "execution_count": 3,
   "metadata": {
    "collapsed": true
   },
   "outputs": [],
   "source": [
    "class DataSet():\n",
    "    \n",
    "    def __init__(self, labels, images):\n",
    "        self.labels = labels\n",
    "        self.images = images\n",
    "        self.num_examples = self.labels.shape[0]\n",
    "        self.index_in_epoch = 0\n",
    "        self.epochs_completed = 0\n",
    "        \n",
    "    def next_batch(self, batch_size):\n",
    "        image_batch = np.zeros((batch_size, *self.images.shape[1:]))\n",
    "        labels_batch = np.zeros((batch_size, *self.labels.shape[1:]))\n",
    "        for i in range(batch_size):\n",
    "            image_batch[i,:] = self.images[self.index_in_epoch,:]\n",
    "            labels_batch[i,:] = self.labels[self.index_in_epoch,:]\n",
    "            self.index_in_epoch = (self.index_in_epoch + 1) % self.num_examples\n",
    "            if self.index_in_epoch == 0:\n",
    "                self.epochs_completed += 1\n",
    "        return [image_batch, labels_batch]"
   ]
  },
  {
   "cell_type": "code",
   "execution_count": 4,
   "metadata": {},
   "outputs": [
    {
     "name": "stdout",
     "output_type": "stream",
     "text": [
      "10000 45000\n"
     ]
    }
   ],
   "source": [
    "# Split train set in labelled and unlabelled sets\n",
    "labelled_samples = 10000\n",
    "train_labelled = DataSet(mnist.train.labels[:labelled_samples], mnist.train.images[:labelled_samples])\n",
    "train_unlabelled = DataSet(mnist.train.labels[labelled_samples:], mnist.train.images[labelled_samples:])\n",
    "\n",
    "print(train_labelled.num_examples, train_unlabelled.num_examples)"
   ]
  },
  {
   "cell_type": "code",
   "execution_count": 7,
   "metadata": {
    "collapsed": true
   },
   "outputs": [],
   "source": [
    "# Create the model\n",
    "class CVAE():\n",
    "    \n",
    "    def __init__(self, io_size, z_dim, nclasses, hidden_size, build=True):\n",
    "        # sizes\n",
    "        self.io_size = io_size\n",
    "        self.z_dim = z_dim\n",
    "        self.nclasses = nclasses\n",
    "        self.hidden_size = hidden_size\n",
    "        \n",
    "        # graph config\n",
    "        self.gc = dict()\n",
    "        \n",
    "        if build:\n",
    "            self.build()\n",
    "            # Save names\n",
    "            self.set_gc_names()            \n",
    "            \n",
    "    def placeholders(self):\n",
    "        self.enc_input = tf.placeholder(tf.float32, shape=[None, self.io_size], name='enc_input')\n",
    "        self.output = tf.placeholder(tf.float32, shape=[None, self.io_size], name='output')\n",
    "        self.dec_mu_input = tf.placeholder(tf.float32, shape=[None, self.z_dim], name='dec_input')\n",
    "        self.dec_sigma_input = tf.placeholder(tf.float32, shape=[None, self.z_dim], name='dec_input')\n",
    "        self.labels = tf.placeholder(tf.float32, shape=[None, self.nclasses], name='labels')\n",
    "        \n",
    "    def encoder(self, enc_input, reuse=False):\n",
    "        with tf.variable_scope('encoder', reuse=reuse):\n",
    "            # Znet layers\n",
    "            layer = tf.contrib.layers.flatten(enc_input)\n",
    "            layer = tf.contrib.layers.fully_connected(layer, self.hidden_size, activation_fn=tf.nn.relu)\n",
    "            mu = tf.contrib.layers.fully_connected(layer, self.z_dim, activation_fn=None)\n",
    "            log_sigma = tf.contrib.layers.fully_connected(layer, self.z_dim, activation_fn=None)\n",
    "            ylogits = tf.contrib.layers.fully_connected(layer, self.nclasses, activation_fn=None)\n",
    "            y = tf.nn.softmax(ylogits)\n",
    "            \n",
    "            return mu, log_sigma, ylogits, y\n",
    "            \n",
    "    def decoder(self, mu, log_sigma, reuse=False): \n",
    "        with tf.variable_scope('decoder', reuse=reuse):\n",
    "            batch_size = tf.shape(mu)[0]\n",
    "            z = tf.random_normal([batch_size, self.z_dim], mu, tf.exp(log_sigma))\n",
    "            # Decoder layers\n",
    "            layer = tf.contrib.layers.fully_connected(z, self.hidden_size, activation_fn=tf.nn.relu)        \n",
    "            logits = tf.contrib.layers.fully_connected(layer, self.io_size*self.nclasses, activation_fn=None)\n",
    "            logits = tf.reshape(logits, [-1, self.nclasses, self.io_size]) # adjacent outputs form an image ;)\n",
    "            \n",
    "            return logits\n",
    "            \n",
    "    def build(self):\n",
    "        self.placeholders()\n",
    "        \n",
    "        mu, log_sigma, qy_x_logits, qy_x = self.encoder(self.enc_input)\n",
    "        self.logits = self.decoder(mu, log_sigma)\n",
    "        self.sampled_logits = self.decoder(self.dec_mu_input, self.dec_sigma_input, reuse=True)\n",
    "        \n",
    "        ## Loss functions\n",
    "        # KL (q(z|x) || p(z))\n",
    "        kl = 0.5 * tf.reduce_sum(tf.exp(log_sigma) + tf.square(mu) - 1. - log_sigma, axis=1)\n",
    "        # H (q(y|x))\n",
    "        # Hq = -tf.reduce_sum(qy_x * tf.log(qy_x), axis=1) # numerically unstable\n",
    "        max_logit = tf.reduce_max(qy_x_logits, axis=1, keep_dims=True)\n",
    "        max_logits = tf.tile(max_logit, (1, self.nclasses))\n",
    "        sum_logits = tf.log(tf.reduce_sum(tf.exp(qy_x_logits - max_logits), axis=1, keep_dims=True))\n",
    "        sum_logits = tf.tile(sum_logits, (1, self.nclasses))\n",
    "        logq = qy_x_logits - max_logits - sum_logits\n",
    "        Hq = -tf.reduce_sum(qy_x * logq, axis=1)\n",
    "        # classification\n",
    "        cross_entropy = tf.nn.softmax_cross_entropy_with_logits(logits=qy_x_logits, labels=self.labels)\n",
    "        # reconstruction\n",
    "        output = tf.tile(self.output, [1, self.nclasses])\n",
    "        output = tf.reshape(output, [-1, self.nclasses, self.io_size])\n",
    "        logp = tf.reduce_sum(\n",
    "                        tf.nn.sigmoid_cross_entropy_with_logits(logits=self.logits, labels=output), \n",
    "                        axis=2)\n",
    "        logp = tf.squeeze(logp)\n",
    "        # Labelled\n",
    "        logp_labelled = tf.reduce_sum(logp * self.labels, axis=1)\n",
    "        self.loss_labelled = tf.reduce_mean(logp_labelled + kl + cross_entropy)\n",
    "        # Unlabelled\n",
    "        logp_unlabelled = tf.reduce_sum(logp * qy_x, axis=1)\n",
    "        self.loss_unlabelled = tf.reduce_mean(logp_unlabelled + kl  + Hq)\n",
    "        # Supervised learning\n",
    "        self.loss_supervised = tf.reduce_mean(cross_entropy)\n",
    "        # Accuracy\n",
    "        correct_prediction = tf.equal(tf.argmax(self.labels, 1), tf.argmax(qy_x_logits, 1))\n",
    "        self.accuracy = tf.reduce_mean(tf.cast(correct_prediction, tf.float32))\n",
    "        \n",
    "        # Optimizer\n",
    "        self.train_labelled = tf.train.AdamOptimizer(1e-4).minimize(self.loss_labelled)\n",
    "        self.train_unlabelled = tf.train.AdamOptimizer(1e-4).minimize(self.loss_unlabelled)\n",
    "        self.train_supervised = tf.train.AdamOptimizer(1e-4).minimize(self.loss_supervised)\n",
    "      \n",
    "    def set_gc_names(self):\n",
    "        for k, v in self.__dict__.items():\n",
    "            if isinstance(v, tf.Tensor) or isinstance(v, tf.Operation):\n",
    "                self.gc[k] = self.__dict__[k].name    \n",
    "        \n",
    "    def print_gc_names(self):\n",
    "        for k, n in self.gc.items():\n",
    "            print(k, n)            \n",
    "           \n",
    "    def init_from_graph(self, graph, gc):\n",
    "        self.gc = gc\n",
    "        for k, n in self.gc.items():\n",
    "            try:\n",
    "                self.__dict__[k] =  graph.get_tensor_by_name(n)\n",
    "            except:\n",
    "                try:\n",
    "                    self.__dict__[k] =  graph.get_operation_by_name(n)\n",
    "                except:\n",
    "                    raise\n",
    " "
   ]
  },
  {
   "cell_type": "code",
   "execution_count": 8,
   "metadata": {},
   "outputs": [
    {
     "name": "stderr",
     "output_type": "stream",
     "text": [
      "Epoch 50: 100%|█████████▉| 2998400/3000000 [11:28<00:00, 4357.50 examples/s, LL=122.200, UL=112.233, acc=0.94, vacc=0.91]\n"
     ]
    }
   ],
   "source": [
    "# Train the model and save it\n",
    "io_size, z_dim, hidden_size, nclasses = 784, 4, 512, 10\n",
    "batch_size = 32\n",
    "nepochs = 50\n",
    "restore_vae = False # False, True\n",
    "\n",
    "tf.reset_default_graph()\n",
    "if restore_vae:    \n",
    "    vae = CVAE(io_size, z_dim, nclasses, hidden_size, build=False)    \n",
    "else:\n",
    "    vae = CVAE(io_size, z_dim, nclasses, hidden_size)\n",
    "    with open('chck/gc.pickle', 'wb') as f:\n",
    "        pickle.dump(vae.gc, f)\n",
    "        \n",
    "with tf.Session() as sess:\n",
    "    if restore_vae:\n",
    "        saver = tf.train.import_meta_graph('chck/vae.meta')\n",
    "        saver.restore(sess, \"chck/vae\")\n",
    "        with open('chck/gc.pickle', 'rb') as f:\n",
    "            gc = pickle.load(f) \n",
    "        vae.init_from_graph(sess.graph, gc)\n",
    "    else:\n",
    "        sess.run(tf.global_variables_initializer())\n",
    "        saver = tf.train.Saver()\n",
    "\n",
    "    num_examples = mnist.train.num_examples + mnist.validation.num_examples\n",
    "    with tqdm(desc='Epoch', total=num_examples*nepochs, unit=' examples') as pbar:\n",
    "        labelled_loss, unlabelled_loss, valid_acc = 0, 0, 0.0\n",
    "        for epoch in range(nepochs):\n",
    "            # Labelled\n",
    "            for batch_idx in range(int(train_labelled.num_examples//batch_size)):\n",
    "                batch = train_labelled.next_batch(batch_size)\n",
    "                _, labelled_loss, accuracy = sess.run([vae.train_labelled, vae.loss_labelled, vae.accuracy], \n",
    "                                feed_dict={vae.enc_input: batch[0], vae.output: batch[0], vae.labels: batch[1]})\n",
    "                pbar.set_description('Epoch {:2}'.format(epoch+1))\n",
    "                pbar.update(batch_size)\n",
    "                pbar.set_postfix(LL='{:.3f}'.format(labelled_loss), \\\n",
    "                                 UL='{:.3f}'.format(unlabelled_loss), \\\n",
    "                                 acc='{:.2f}'.format(accuracy), \\\n",
    "                                 vacc='{:.2f}'.format(valid_acc))\n",
    "            # Unlabelled\n",
    "            for batch_idx in range(int(train_unlabelled.num_examples//batch_size)):\n",
    "                batch = train_unlabelled.next_batch(batch_size)\n",
    "                _, unlabelled_loss, accuracy = sess.run([vae.train_unlabelled, vae.loss_unlabelled, vae.accuracy], \n",
    "                                feed_dict={vae.enc_input: batch[0], vae.output: batch[0], vae.labels: batch[1]})\n",
    "                pbar.set_description('Epoch {:2}'.format(epoch+1))\n",
    "                pbar.update(batch_size)\n",
    "                pbar.set_postfix(LL='{:.3f}'.format(labelled_loss), \\\n",
    "                                 UL='{:.3f}'.format(unlabelled_loss), \\\n",
    "                                 acc='{:.2f}'.format(accuracy), \\\n",
    "                                 vacc='{:.2f}'.format(valid_acc))\n",
    "\n",
    "            # Validation accuracy\n",
    "            for batch_idx in range(int(mnist.validation.num_examples//batch_size)):\n",
    "                batch = mnist.validation.next_batch(batch_size)\n",
    "                acc = sess.run(vae.accuracy, \n",
    "                            feed_dict={vae.enc_input: batch[0], vae.labels: batch[1]})\n",
    "                valid_acc = (valid_acc*batch_idx + acc)/(batch_idx + 1)\n",
    "                pbar.set_description('Epoch {:2}'.format(epoch+1))\n",
    "                pbar.update(batch_size)\n",
    "                pbar.set_postfix(LL='{:.3f}'.format(labelled_loss), \\\n",
    "                                 UL='{:.3f}'.format(unlabelled_loss), \\\n",
    "                                 acc='{:.2f}'.format(accuracy), \\\n",
    "                                 vacc='{:.2f}'.format(valid_acc))\n",
    "                \n",
    "    save_path = saver.save(sess, \"chck/vae\")"
   ]
  },
  {
   "cell_type": "code",
   "execution_count": 9,
   "metadata": {},
   "outputs": [
    {
     "name": "stdout",
     "output_type": "stream",
     "text": [
      "INFO:tensorflow:Restoring parameters from chck/vae\n"
     ]
    },
    {
     "name": "stderr",
     "output_type": "stream",
     "text": [
      "Epoch 50: 100%|█████████▉| 9984/10000 [00:00<00:00, 43156.43 examples/s]"
     ]
    },
    {
     "name": "stdout",
     "output_type": "stream",
     "text": [
      "Test accuracy 0.91\n"
     ]
    },
    {
     "name": "stderr",
     "output_type": "stream",
     "text": [
      "\n"
     ]
    }
   ],
   "source": [
    "# Test model\n",
    "io_size, z_dim, hidden_size, nclasses = 784, 4, 512, 10\n",
    "batch_size = 32\n",
    "\n",
    "tf.reset_default_graph()\n",
    "vae = CVAE(io_size, z_dim, nclasses, hidden_size, build=False)    \n",
    "   \n",
    "with tf.Session() as sess:\n",
    "    saver = tf.train.import_meta_graph('chck/vae.meta')\n",
    "    saver.restore(sess, \"chck/vae\")\n",
    "    with open('chck/gc.pickle', 'rb') as f:\n",
    "        gc = pickle.load(f) \n",
    "    vae.init_from_graph(sess.graph, gc)\n",
    "\n",
    "    with tqdm(desc='Epoch', total=mnist.test.num_examples, unit=' examples') as pbar:\n",
    "        test_acc = 0.0\n",
    "        for batch_idx in range(int(mnist.test.num_examples//batch_size)):\n",
    "            batch = mnist.validation.next_batch(batch_size)\n",
    "            acc = sess.run(vae.accuracy, \n",
    "                        feed_dict={vae.enc_input: batch[0], vae.labels: batch[1]})\n",
    "            test_acc = (test_acc*batch_idx + acc)/(batch_idx + 1)\n",
    "            pbar.set_description('Epoch {:2}'.format(epoch+1))\n",
    "            pbar.update(batch_size)\n",
    "            \n",
    "    print('Test accuracy {:.2f}'.format(test_acc))"
   ]
  },
  {
   "cell_type": "markdown",
   "metadata": {},
   "source": [
    "## Display reconstituted images"
   ]
  },
  {
   "cell_type": "code",
   "execution_count": 10,
   "metadata": {},
   "outputs": [
    {
     "name": "stdout",
     "output_type": "stream",
     "text": [
      "INFO:tensorflow:Restoring parameters from chck/vae\n"
     ]
    },
    {
     "data": {
      "image/png": "[encoded data removed]",
      "text/plain": [
       "<matplotlib.figure.Figure at 0x7fbe26933828>"
      ]
     },
     "metadata": {},
     "output_type": "display_data"
    }
   ],
   "source": [
    "# Display input/output pairs\n",
    "io_size, z_dim, hidden_size, nclasses = 784, 4, 512, 10\n",
    "\n",
    "images = {l: {'original': np.zeros((28,28)), 'reconstituted': np.zeros((28,28))} for l in range(10)}\n",
    "\n",
    "found = [False for _ in range(10)]\n",
    "for im, label in zip(mnist.test.images, mnist.test.labels):\n",
    "    l = np.int(np.squeeze(np.where(label==1)))\n",
    "    images[l]['original'] = np.reshape(im, (28, 28))\n",
    "    found[l] = True\n",
    "    if all(found):\n",
    "        break\n",
    "\n",
    "tf.reset_default_graph()\n",
    "vae = CVAE(io_size, z_dim, nclasses, hidden_size, build=False)\n",
    "\n",
    "with tf.Session() as sess:\n",
    "    saver = tf.train.import_meta_graph('chck/vae.meta')\n",
    "    saver.restore(sess, \"chck/vae\")\n",
    "    with open('chck/gc.pickle', 'rb') as f:\n",
    "        gc = pickle.load(f) \n",
    "    vae.init_from_graph(sess.graph, gc)\n",
    "    \n",
    "    with tf.variable_scope('reconstitute'):\n",
    "        pix = tf.nn.sigmoid(vae.logits)\n",
    "        labels = tf.expand_dims(vae.labels, -1)\n",
    "        reconstituted = tf.multiply(pix, labels)\n",
    "        reconstituted = tf.reduce_sum(reconstituted, axis=1)        \n",
    "\n",
    "    v = tf.get_collection(tf.GraphKeys.TRAINABLE_VARIABLES, scope='reconstitute')\n",
    "    sess.run(tf.variables_initializer(v))        \n",
    "        \n",
    "    for l in range(10):\n",
    "        img = np.reshape(images[l]['original'], 784)\n",
    "        label = np.zeros((1, nclasses))\n",
    "        label[0, l] = 1\n",
    "        recon = sess.run(reconstituted, \n",
    "                feed_dict={vae.enc_input: img[np.newaxis,:], vae.labels: label})\n",
    "        images[l]['reconstituted'] = np.reshape(recon, (28, 28))\n",
    "\n",
    "fig, axes = plt.subplots(2, 10, sharex=True, sharey=True, figsize=(1.5*10,2*1.5))\n",
    "for ii in range(10):\n",
    "    axes[0][ii].imshow(images[ii]['original'], aspect='equal', cmap='gray')\n",
    "    axes[0][ii].xaxis.set_visible(False)\n",
    "    axes[0][ii].yaxis.set_visible(False)\n",
    "    axes[1][ii].imshow(images[ii]['reconstituted'], aspect='equal', cmap='gray')\n",
    "    axes[1][ii].xaxis.set_visible(False)\n",
    "    axes[1][ii].yaxis.set_visible(False)\n",
    "    \n",
    "plt.subplots_adjust(wspace=0, hspace=0)"
   ]
  },
  {
   "cell_type": "markdown",
   "metadata": {},
   "source": [
    "## Generate samples "
   ]
  },
  {
   "cell_type": "code",
   "execution_count": 11,
   "metadata": {},
   "outputs": [
    {
     "name": "stdout",
     "output_type": "stream",
     "text": [
      "INFO:tensorflow:Restoring parameters from chck/vae\n"
     ]
    },
    {
     "data": {
      "image/png": "[encoded data removed]",
      "text/plain": [
       "<matplotlib.figure.Figure at 0x7fbe16258a20>"
      ]
     },
     "metadata": {},
     "output_type": "display_data"
    }
   ],
   "source": [
    "io_size, z_dim, hidden_size, nclasses = 784, 4, 512, 10\n",
    "vsamples = 4\n",
    "\n",
    "tf.reset_default_graph()\n",
    "vae = CVAE(io_size, z_dim, nclasses, hidden_size, build=False)\n",
    "\n",
    "\n",
    "'''for v in tf.get_collection(tf.GraphKeys.TRAINABLE_VARIABLES, scope='decoder'):\n",
    "    print(v.name)\n",
    "\n",
    "logits = vae.decoder(vae.dec_mu_input, vae.dec_sigma_input, reuse=True)\n",
    "print('----')\n",
    "for v in tf.get_collection(tf.GraphKeys.TRAINABLE_VARIABLES, scope='decoder'):\n",
    "    print(v.name)\n",
    "print('----')\n",
    "print(vae.dec_mu_input.name)\n",
    "print(vae.dec_sigma_input.name)\n",
    "print(vae.labels.name) '''   \n",
    "    \n",
    "with tf.Session() as sess:\n",
    "    saver = tf.train.import_meta_graph('chck/vae.meta')\n",
    "    with open('chck/gc.pickle', 'rb') as f:\n",
    "        gc = pickle.load(f) \n",
    "    vae.init_from_graph(sess.graph, gc)    \n",
    "    saver.restore(sess, \"chck/vae\")    \n",
    "    \n",
    "    mu = np.random.normal(0.0, 1.0, (vsamples, vae.z_dim))\n",
    "    log_sigma = np.random.normal(0.0, 1.0, (vsamples, vae.z_dim))\n",
    "    mu = np.repeat(mu, nclasses, axis=0)\n",
    "    log_sigma = np.repeat(log_sigma, nclasses, axis=0)\n",
    "    labels = np.eye(nclasses)\n",
    "    labels = np.tile(labels, (vsamples, 1))\n",
    "        \n",
    "    with tf.variable_scope('sample'):        \n",
    "        reconstituted = tf.nn.sigmoid(vae.sampled_logits)\n",
    "        reconstituted = tf.multiply(reconstituted, tf.expand_dims(vae.labels, axis=-1))\n",
    "        reconstituted = tf.reduce_sum(reconstituted, axis=1)\n",
    "        \n",
    "    v = tf.get_collection(tf.GraphKeys.TRAINABLE_VARIABLES, scope='sample')\n",
    "    sess.run(tf.variables_initializer(v))\n",
    "    \n",
    "    samples = sess.run(reconstituted, \n",
    "                       feed_dict={vae.dec_mu_input: mu, vae.dec_sigma_input: log_sigma, vae.labels: labels})\n",
    "\n",
    "fig, axes = plt.subplots(vsamples, nclasses, sharex=True, sharey=True, figsize=(1.5*nclasses,1.5*vsamples))\n",
    "for ih in range(nclasses):\n",
    "    for iv in range(vsamples):\n",
    "        img = np.reshape(samples[ih+iv*nclasses,:], (28, 28))\n",
    "        axes[iv][ih].imshow(img, aspect='equal', cmap='gray')\n",
    "        axes[iv][ih].xaxis.set_visible(False)\n",
    "        axes[iv][ih].yaxis.set_visible(False)\n",
    "        \n",
    "plt.subplots_adjust(wspace=0, hspace=0) "
   ]
  },
  {
   "cell_type": "markdown",
   "metadata": {
    "collapsed": true
   },
   "source": [
    "  ## Compare supervised to semi-supervised learning"
   ]
  },
  {
   "cell_type": "markdown",
   "metadata": {},
   "source": [
    "### Supervised learning\n",
    "\n"
   ]
  },
  {
   "cell_type": "code",
   "execution_count": null,
   "metadata": {
    "collapsed": true
   },
   "outputs": [],
   "source": [
    "# Function to gather accuracy statistics\n",
    "def acchist(train_split, nepochs=1, training='supervised'):\n",
    "    assert train_split >= 0.0, \"train_split must be >= 0.0, {} given\".format(train_split)\n",
    "    assert train_split <= 1.0, \"train_split must be <= 1.0, {} given\".format(train_split)\n",
    "    # split train data in labelled and unlabelled sets\n",
    "    num_samples = int(mnist.train.num_examples*train_split)\n",
    "    train_supervised = DataSet(mnist.train.labels[:num_samples], mnist.train.images[:num_samples])\n",
    "    # statistic lists\n",
    "    train_acc, valid_acc, test_acc = [], [], []\n",
    "    # network configuration constants\n",
    "    io_size, z_dim, hidden_size, nclasses = 784, 4, 512, 10\n",
    "    batch_size = 32\n",
    "    # create network\n",
    "    tf.reset_default_graph()\n",
    "    vae = CVAE(io_size, z_dim, nclasses, hidden_size)\n",
    "   \n",
    "    with tf.Session() as sess:\n",
    "        sess.run(tf.global_variables_initializer())\n",
    "\n",
    "        if training == 'supervised':\n",
    "            num_examples = train_supervised.num_examples + mnist.validation.num_examples + mnist.test.num_examples\n",
    "        else:\n",
    "            num_examples = mnist.train.num_examples + mnist.validation.num_examples + mnist.test.num_examples\n",
    "        with tqdm(desc='Epoch', total=num_examples*nepochs, unit=' examples') as pbar:\n",
    "            for epoch in range(nepochs):\n",
    "                acc = 0.0\n",
    "                if training == 'supervised':\n",
    "                    # Supervised\n",
    "                    for batch_idx in range(int(train_supervised.num_examples//batch_size)):\n",
    "                        batch = train_supervised.next_batch(batch_size)\n",
    "                        _, supervised_loss, batch_acc = \\\n",
    "                                sess.run([vae.train_supervised, vae.loss_supervised, vae.accuracy], \n",
    "                                        feed_dict={vae.enc_input: batch[0], vae.labels: batch[1]})\n",
    "                        acc = (acc*batch_idx + batch_acc)/(batch_idx + 1)\n",
    "                        pbar.set_description('Epoch {:2}'.format(epoch+1))\n",
    "                        pbar.update(batch_size)\n",
    "                else:\n",
    "                    for batch_idx in range(int(train_labelled.num_examples//batch_size)):\n",
    "                        batch = train_labelled.next_batch(batch_size)\n",
    "                        _, labelled_loss, batch_acc = \\\n",
    "                                sess.run([vae.train_labelled, vae.loss_labelled, vae.accuracy], \n",
    "                                    feed_dict={vae.enc_input: batch[0], vae.output: batch[0], vae.labels: batch[1]})\n",
    "                        acc = (acc*batch_idx + batch_acc)/(batch_idx + 1)\n",
    "                        pbar.set_description('Epoch {:2}'.format(epoch+1))\n",
    "                        pbar.update(batch_size)\n",
    "                    n_labelled_batches = batch_idx\n",
    "\n",
    "                    # Unlabelled\n",
    "                    for batch_idx in range(int(train_unlabelled.num_examples//batch_size)):\n",
    "                        batch = train_unlabelled.next_batch(batch_size)\n",
    "                        _, unlabelled_loss, batch_acc = \\\n",
    "                                sess.run([vae.train_unlabelled, vae.loss_unlabelled, vae.accuracy], \n",
    "                                    feed_dict={vae.enc_input: batch[0], vae.output: batch[0], vae.labels: batch[1]})\n",
    "                        train_batch_idx = batch_idx + n_labelled_batches + 1\n",
    "                        acc = (acc*train_batch_idx + batch_acc)/(train_batch_idx + 1)\n",
    "                        pbar.set_description('Epoch {:2}'.format(epoch+1))\n",
    "                        pbar.update(batch_size)\n",
    "                train_acc.append(acc) \n",
    "\n",
    "                # Validation accuracy\n",
    "                acc = 0.0\n",
    "                for batch_idx in range(int(mnist.validation.num_examples//batch_size)):\n",
    "                    batch = mnist.validation.next_batch(batch_size)\n",
    "                    batch_acc = sess.run(vae.accuracy, \n",
    "                            feed_dict={vae.enc_input: batch[0], vae.labels: batch[1]})\n",
    "                    acc = (acc*batch_idx + batch_acc)/(batch_idx + 1)\n",
    "                    pbar.set_description('Epoch {:2}'.format(epoch+1))\n",
    "                    pbar.update(batch_size)\n",
    "                valid_acc.append(acc)\n",
    "                    \n",
    "                # Test accuracy\n",
    "                acc = 0.0\n",
    "                for batch_idx in range(int(mnist.test.num_examples//batch_size)):\n",
    "                    batch = mnist.validation.next_batch(batch_size)\n",
    "                    batch_acc = sess.run(vae.accuracy, \n",
    "                            feed_dict={vae.enc_input: batch[0], vae.labels: batch[1]})\n",
    "                    acc = (acc*batch_idx + batch_acc)/(batch_idx + 1)\n",
    "                    pbar.set_description('Epoch {:2}'.format(epoch+1))\n",
    "                    pbar.update(batch_size)\n",
    "                test_acc.append(acc)\n",
    "                \n",
    "    return train_acc, valid_acc, test_acc"
   ]
  },
  {
   "cell_type": "code",
   "execution_count": null,
   "metadata": {},
   "outputs": [],
   "source": [
    "supervised_stats = dict()\n",
    "for train_split in [0.25, 0.5, 0.75, 1.0]:#[0.1, 0.3, 0.5, 0.7, 0.9, 1.0]:\n",
    "    train_acc, valid_acc, test_acc = acchist(train_split=train_split, nepochs=50, training='supervised')\n",
    "    supervised_stats[train_split] = {'train': train_acc, 'valid': valid_acc, 'test': test_acc}\n",
    "\n",
    "with open('chck/supervised_stats.pickle', 'wb') as f:\n",
    "    pickle.dump(supervised_stats, f)"
   ]
  },
  {
   "cell_type": "markdown",
   "metadata": {},
   "source": [
    "### Semi-supervised learning"
   ]
  },
  {
   "cell_type": "code",
   "execution_count": null,
   "metadata": {},
   "outputs": [],
   "source": [
    "semisupervised_stats = dict()\n",
    "for train_split in [0.25, 0.5, 0.75, 1.0]:#[0.1, 0.3, 0.5, 0.7, 0.9, 1.0]:\n",
    "    train_acc, valid_acc, test_acc = acchist(train_split=train_split, nepochs=50, training='semisupervised')\n",
    "    semisupervised_stats[train_split] = {'train': train_acc, 'valid': valid_acc, 'test': test_acc}\n",
    "\n",
    "with open('chck/semisupervised_stats.pickle', 'wb') as f:\n",
    "    pickle.dump(semisupervised_stats, f)"
   ]
  },
  {
   "cell_type": "markdown",
   "metadata": {},
   "source": [
    "### Plot supervised & semi-supervised learning comparison"
   ]
  },
  {
   "cell_type": "code",
   "execution_count": null,
   "metadata": {},
   "outputs": [],
   "source": [
    "with open('chck/supervised_stats.pickle', 'rb') as f:\n",
    "    supervised_stats = pickle.load(f)\n",
    "\n",
    "with open('chck/semisupervised_stats.pickle', 'rb') as f:\n",
    "    semisupervised_stats = pickle.load(f)    \n",
    "    \n",
    "nsplits=len(supervised_stats)\n",
    "fig, axes = plt.subplots((nsplits+1)//2, 2, figsize=(8.0*2,nsplits*4.0/2))\n",
    "for ii, split in enumerate(sorted(supervised_stats.keys())):\n",
    "    axes[ii//2][ii%2].plot(supervised_stats[split]['test'], 'g', label='supervised' + ' {:.2f}'.format(split))\n",
    "    axes[ii//2][ii%2].plot(semisupervised_stats[split]['test'], 'b--', label='semi-supervised' + ' {:.2f}'.format(split))\n",
    "    axes[ii//2][ii%2].set_title('{:.2f}'.format(split))\n",
    "    axes[ii//2][ii%2].set_xlim(-0.5, 50.5)\n",
    "    axes[ii//2][ii%2].set_ylim(0.0, 1.0)\n",
    "    axes[ii//2][ii%2].grid()\n",
    "    axes[ii//2][ii%2].legend(loc=\"lower right\")\n"
   ]
  },
  {
   "cell_type": "code",
   "execution_count": null,
   "metadata": {},
   "outputs": [],
   "source": [
    "with open('chck/supervised_stats.pickle', 'rb') as f:\n",
    "    supervised_stats = pickle.load(f)\n",
    "    \n",
    "stylez=['g--', 'b--', 'g*', 'b*']\n",
    "\n",
    "fig, axes = plt.subplots(1, 1, figsize=(8.0,4.0))\n",
    "for ii, split in enumerate(sorted(supervised_stats.keys())):\n",
    "    axes.plot(supervised_stats[split]['test'], stylez[ii], label='supervised' + ' {:.2f}'.format(split))\n",
    "\n",
    "axes.set_title('Supervised training on a subset')\n",
    "axes.set_xlim(-0.5, 50.5)\n",
    "axes.set_ylim(0.88, 0.99)\n",
    "axes.grid()\n",
    "axes.legend(loc=\"lower right\")\n"
   ]
  },
  {
   "cell_type": "markdown",
   "metadata": {},
   "source": [
    "**&#9830;&#9830;&#9830;&#9830;&#9830;&#9830;&#9830;&#9830;&#9830;&#9830;&#9830;&#9830;&#9830;&#9830;&#9830;\n",
    "&#9830;&#9830;&#9830;&#9830;&#9830;&#9830;&#9830;&#9830;&#9830;&#9830;&#9830;&#9830;&#9830;&#9830;&#9830;\n",
    "&#9830;&#9830;&#9830;&#9830;&#9830;&#9830;&#9830;&#9830;&#9830;&#9830;&#9830;&#9830;&#9830;&#9830;&#9830;\n",
    "&#9830;&#9830;&#9830;&#9830;&#9830;&#9830;&#9830;&#9830;&#9830;&#9830;&#9830;&#9830;&#9830;&#9830;&#9830;\n",
    "&#9830;&#9830;&#9830;&#9830;&#9830;&#9830;&#9830;&#9830;&#9830;&#9830;&#9830;&#9830;&#9830;&#9830;&#9830;\n",
    "&#9830;&#9830;&#9830;&#9830;&#9830;&#9830;&#9830;&#9830;&#9830;&#9830;&#9830;&#9830;&#9830;&#9830;&#9830;**\n",
    "\n",
    "**&#9830;&#9830;&#9830;&#9830;&#9830;&#9830;&#9830;&#9830;&#9830;&#9830;&#9830;&#9830;&#9830;&#9830;&#9830;\n",
    "&#9830;&#9830;&#9830;&#9830;&#9830;&#9830;&#9830;&#9830;&#9830;&#9830;&#9830;&#9830;&#9830;&#9830;&#9830;\n",
    "&#9830;&#9830;&#9830;&#9830;&#9830;&#9830;&#9830;&#9830;&#9830;&#9830;&#9830;&#9830;&#9830;&#9830;&#9830;\n",
    "&#9830;&#9830;&#9830;&#9830;&#9830;&#9830;&#9830;&#9830;&#9830;&#9830;&#9830;&#9830;&#9830;&#9830;&#9830;\n",
    "&#9830;&#9830;&#9830;&#9830;&#9830;&#9830;&#9830;&#9830;&#9830;&#9830;&#9830;&#9830;&#9830;&#9830;&#9830;\n",
    "&#9830;&#9830;&#9830;&#9830;&#9830;&#9830;&#9830;&#9830;&#9830;&#9830;&#9830;&#9830;&#9830;&#9830;&#9830;**\n",
    "\n",
    "## _Old discarded code_\n",
    "\n",
    "**&#9830;&#9830;&#9830;&#9830;&#9830;&#9830;&#9830;&#9830;&#9830;&#9830;&#9830;&#9830;&#9830;&#9830;&#9830;\n",
    "&#9830;&#9830;&#9830;&#9830;&#9830;&#9830;&#9830;&#9830;&#9830;&#9830;&#9830;&#9830;&#9830;&#9830;&#9830;\n",
    "&#9830;&#9830;&#9830;&#9830;&#9830;&#9830;&#9830;&#9830;&#9830;&#9830;&#9830;&#9830;&#9830;&#9830;&#9830;\n",
    "&#9830;&#9830;&#9830;&#9830;&#9830;&#9830;&#9830;&#9830;&#9830;&#9830;&#9830;&#9830;&#9830;&#9830;&#9830;\n",
    "&#9830;&#9830;&#9830;&#9830;&#9830;&#9830;&#9830;&#9830;&#9830;&#9830;&#9830;&#9830;&#9830;&#9830;&#9830;\n",
    "&#9830;&#9830;&#9830;&#9830;&#9830;&#9830;&#9830;&#9830;&#9830;&#9830;&#9830;&#9830;&#9830;&#9830;&#9830;**\n",
    "\n",
    "**&#9830;&#9830;&#9830;&#9830;&#9830;&#9830;&#9830;&#9830;&#9830;&#9830;&#9830;&#9830;&#9830;&#9830;&#9830;\n",
    "&#9830;&#9830;&#9830;&#9830;&#9830;&#9830;&#9830;&#9830;&#9830;&#9830;&#9830;&#9830;&#9830;&#9830;&#9830;\n",
    "&#9830;&#9830;&#9830;&#9830;&#9830;&#9830;&#9830;&#9830;&#9830;&#9830;&#9830;&#9830;&#9830;&#9830;&#9830;\n",
    "&#9830;&#9830;&#9830;&#9830;&#9830;&#9830;&#9830;&#9830;&#9830;&#9830;&#9830;&#9830;&#9830;&#9830;&#9830;\n",
    "&#9830;&#9830;&#9830;&#9830;&#9830;&#9830;&#9830;&#9830;&#9830;&#9830;&#9830;&#9830;&#9830;&#9830;&#9830;\n",
    "&#9830;&#9830;&#9830;&#9830;&#9830;&#9830;&#9830;&#9830;&#9830;&#9830;&#9830;&#9830;&#9830;&#9830;&#9830;**\n"
   ]
  },
  {
   "cell_type": "code",
   "execution_count": null,
   "metadata": {
    "collapsed": true
   },
   "outputs": [],
   "source": [
    "# Function to gather accuracy statistics\n",
    "def acchist(train_split, nepochs=1):\n",
    "    assert train_split > 0.0, \"train_split must be > 0.0, {} given\".format(train_split)\n",
    "    assert train_split < 1.0, \"train_split must be < 1.0, {} given\".format(train_split)\n",
    "    # split train data in labelled and unlabelled sets\n",
    "    labelled_samples = int(mnist.train.num_examples*train_split)\n",
    "    train_labelled = DataSet(mnist.train.labels[:labelled_samples], mnist.train.images[:labelled_samples])\n",
    "    train_unlabelled = DataSet(mnist.train.labels[labelled_samples:], mnist.train.images[labelled_samples:])\n",
    "    # statistic lists\n",
    "    train_acc, valid_acc, test_acc = [], [], []\n",
    "    # network configuration constants\n",
    "    io_size, z_dim, hidden_size, nclasses = 784, 4, 512, 10\n",
    "    batch_size = 32\n",
    "    # create network\n",
    "    tf.reset_default_graph()\n",
    "    vae = CVAE(io_size, z_dim, nclasses, hidden_size)\n",
    "   \n",
    "    with tf.Session() as sess:\n",
    "        sess.run(tf.global_variables_initializer())\n",
    "\n",
    "        num_examples = mnist.train.num_examples + mnist.validation.num_examples + mnist.test.num_examples\n",
    "        with tqdm(desc='Epoch', total=num_examples*nepochs, unit=' examples') as pbar:\n",
    "            for epoch in range(nepochs):\n",
    "                acc = 0.0\n",
    "                # Labelled\n",
    "                for batch_idx in range(int(train_labelled.num_examples//batch_size)):\n",
    "                    batch = train_labelled.next_batch(batch_size)\n",
    "                    _, labelled_loss, batch_acc = sess.run([vae.train_labelled, vae.loss_labelled, vae.accuracy], \n",
    "                                feed_dict={vae.enc_input: batch[0], vae.output: batch[0], vae.labels: batch[1]})\n",
    "                    acc = (acc*batch_idx + batch_acc)/(batch_idx + 1)\n",
    "                    pbar.set_description('Epoch {:2}'.format(epoch+1))\n",
    "                    pbar.update(batch_size)\n",
    "                n_labelled_batches = batch_idx\n",
    "                \n",
    "                # Unlabelled\n",
    "                for batch_idx in range(int(train_unlabelled.num_examples//batch_size)):\n",
    "                    batch = train_unlabelled.next_batch(batch_size)\n",
    "                    _, unlabelled_loss, batch_acc = sess.run([vae.train_unlabelled, vae.loss_unlabelled, vae.accuracy], \n",
    "                                feed_dict={vae.enc_input: batch[0], vae.output: batch[0], vae.labels: batch[1]})\n",
    "                    train_batch_idx = batch_idx + n_labelled_batches + 1\n",
    "                    acc = (acc*train_batch_idx + batch_acc)/(train_batch_idx + 1)\n",
    "                    pbar.set_description('Epoch {:2}'.format(epoch+1))\n",
    "                    pbar.update(batch_size)\n",
    "                train_acc.append(acc)\n",
    "\n",
    "                # Validation accuracy\n",
    "                acc = 0.0\n",
    "                for batch_idx in range(int(mnist.validation.num_examples//batch_size)):\n",
    "                    batch = mnist.validation.next_batch(batch_size)\n",
    "                    batch_acc = sess.run(vae.accuracy, \n",
    "                            feed_dict={vae.enc_input: batch[0], vae.labels: batch[1]})\n",
    "                    acc = (acc*batch_idx + batch_acc)/(batch_idx + 1)\n",
    "                    pbar.set_description('Epoch {:2}'.format(epoch+1))\n",
    "                    pbar.update(batch_size)\n",
    "                valid_acc.append(acc)\n",
    "                    \n",
    "                # Test accuracy\n",
    "                acc = 0.0\n",
    "                for batch_idx in range(int(mnist.test.num_examples//batch_size)):\n",
    "                    batch = mnist.validation.next_batch(batch_size)\n",
    "                    batch_acc = sess.run(vae.accuracy, \n",
    "                            feed_dict={vae.enc_input: batch[0], vae.labels: batch[1]})\n",
    "                    acc = (acc*batch_idx + batch_acc)/(batch_idx + 1)\n",
    "                    pbar.set_description('Epoch {:2}'.format(epoch+1))\n",
    "                    pbar.update(batch_size)\n",
    "                test_acc.append(acc)\n",
    "                \n",
    "    return train_acc, valid_acc, test_acc"
   ]
  },
  {
   "cell_type": "code",
   "execution_count": null,
   "metadata": {
    "collapsed": true
   },
   "outputs": [],
   "source": [
    "stats = dict()\n",
    "for train_split in [0.25, 0.5, 0.75, 1.0]:#[0.1, 0.3, 0.5, 0.7, 0.9, 1.0]:\n",
    "    train_acc, valid_acc, test_acc = acchist(train_split=train_split, nepochs=50)\n",
    "    stats[train_split] = {'train': train_acc, 'valid': valid_acc, 'test': test_acc}\n",
    "\n",
    "with open('chck/stats.pickle', 'wb') as f:\n",
    "    pickle.dump(stats, f)"
   ]
  },
  {
   "cell_type": "code",
   "execution_count": null,
   "metadata": {
    "collapsed": true
   },
   "outputs": [],
   "source": [
    "with open('chck/stats.pickle', 'rb') as f:\n",
    "    stats = pickle.load(f)\n",
    "    \n",
    "nsplits=len(stats)\n",
    "fig, axes = plt.subplots((nsplits+1)//2, 2, figsize=(8.0*2,nsplits*4.0/2))\n",
    "for ii, split in enumerate(sorted(stats.keys())):\n",
    "    axes[ii//2][ii%2].plot(stats[split]['train'], 'r')\n",
    "    axes[ii//2][ii%2].plot(stats[split]['valid'], 'g')\n",
    "    axes[ii//2][ii%2].plot(stats[split]['test'], 'b')\n",
    "    axes[ii//2][ii%2].set_title('{:.2f}'.format(split))\n",
    "    axes[ii//2][ii%2].grid()\n",
    "    #axes[0][ii].xaxis.set_visible(False)\n",
    "    #axes[0][ii].yaxis.set_visible(False)\n",
    "    \n",
    "#plt.subplots_adjust(wspace=0, hspace=0)"
   ]
  }
 ],
 "metadata": {
  "kernelspec": {
   "display_name": "Python 3",
   "language": "python",
   "name": "python3"
  },
  "language_info": {
   "codemirror_mode": {
    "name": "ipython",
    "version": 3
   },
   "file_extension": ".py",
   "mimetype": "text/x-python",
   "name": "python",
   "nbconvert_exporter": "python",
   "pygments_lexer": "ipython3",
   "version": "3.5.2"
  }
 },
 "nbformat": 4,
 "nbformat_minor": 2
}
